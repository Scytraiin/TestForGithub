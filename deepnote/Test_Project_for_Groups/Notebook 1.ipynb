{
    "cells": [
        {
            "cell_type": "code",
            "metadata": {
                "source_hash": "3abc8837",
                "execution_start": 1754556122041,
                "execution_millis": 1,
                "execution_context_id": "034638ee-7fc7-4fc6-a5ce-3d894011372d",
                "deepnote_variable_name": "input_1",
                "deepnote_variable_value": "Test",
                "deepnote_app_block_order": 0,
                "deepnote_app_block_visible": true,
                "deepnote_app_block_group_id": null,
                "cell_id": "e1b625337c2b4685b989be13f6f216fd",
                "deepnote_cell_type": "input-text"
            },
            "source": "input_1 = 'Test'",
            "block_group": "3cc63c32737e49b296641935aaf14f83",
            "execution_count": 1,
            "outputs": [],
            "outputs_reference": null
        },
        {
            "cell_type": "code",
            "metadata": {
                "source_hash": "3cae2384",
                "execution_start": 1754556122101,
                "execution_millis": 3,
                "execution_context_id": "034638ee-7fc7-4fc6-a5ce-3d894011372d",
                "deepnote_app_block_order": 1,
                "deepnote_app_block_visible": true,
                "deepnote_app_block_group_id": null,
                "deepnote_app_is_code_hidden": true,
                "deepnote_app_is_output_hidden": false,
                "cell_id": "8e772ee213c84461b344d050798a9986",
                "deepnote_cell_type": "code"
            },
            "source": "print(input_1)\nprint(\"Helloo i bims, eins notebokk\")",
            "block_group": "4a335fd90a6446d09a2c056302fd2f47",
            "execution_count": 2,
            "outputs": [
                {
                    "name": "stdout",
                    "text": "Test\nHelloo i bims, eins notebokk\n",
                    "output_type": "stream"
                }
            ],
            "outputs_reference": "dbtable:cell_outputs/96d19e50-8a82-460d-a936-1becf5a9ee0d",
            "content_dependencies": null
        },
        {
            "cell_type": "code",
            "metadata": {
                "source_hash": "3922290f",
                "execution_start": 1754556122151,
                "execution_millis": 1,
                "execution_context_id": "034638ee-7fc7-4fc6-a5ce-3d894011372d",
                "cell_id": "9bc528cb21714ad58671e0ca997580f1",
                "deepnote_cell_type": "code"
            },
            "source": "print(2*2)",
            "block_group": "e52b8fa0bf3f45448b210e7db5d2b6da",
            "execution_count": 3,
            "outputs": [
                {
                    "name": "stdout",
                    "text": "4\n",
                    "output_type": "stream"
                }
            ],
            "outputs_reference": "dbtable:cell_outputs/9dd246e3-b79a-4717-8b03-0f0296e0065f",
            "content_dependencies": null
        },
        {
            "cell_type": "code",
            "metadata": {
                "source_hash": "b623e53d",
                "execution_start": 1754556122201,
                "execution_millis": 0,
                "execution_context_id": "034638ee-7fc7-4fc6-a5ce-3d894011372d",
                "cell_id": "71e30bbc305e4020981f40e5a09ed5a0",
                "deepnote_cell_type": "code"
            },
            "source": "",
            "block_group": "bd53352edd75417fbabe7d45c740a74a",
            "execution_count": 3,
            "outputs": [],
            "outputs_reference": null,
            "content_dependencies": null
        },
        {
            "cell_type": "markdown",
            "source": "<a style='text-decoration:none;line-height:16px;display:flex;color:#5B5B62;padding:10px;justify-content:end;' href='https://deepnote.com?utm_source=created-in-deepnote-cell&projectId=cfe41bdc-c54e-4ea9-a0d9-9481f0797852' target=\"_blank\">\n<img alt='Created in deepnote.com' style='display:inline;max-height:16px;margin:0px;margin-right:7.5px;' src='data:image/svg+xml;base64,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' > </img>\nCreated in <span style='font-weight:600;margin-left:4px;'>Deepnote</span></a>",
            "metadata": {
                "created_in_deepnote_cell": true,
                "deepnote_cell_type": "markdown"
            }
        }
    ],
    "nbformat": 4,
    "nbformat_minor": 0,
    "metadata": {
        "deepnote_persisted_session": {
            "createdAt": "2025-08-07T08:37:45.674Z"
        },
        "deepnote_app_layout": "powerful-article",
        "deepnote_app_reactivity_enabled": true,
        "deepnote_notebook_id": "e39898e485c74db8a1da54841d26f08a"
    }
}
